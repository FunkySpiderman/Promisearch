{
 "cells": [
  {
   "cell_type": "markdown",
   "source": "# Características relevantes\n\n\n- Fuerza de los seguidores \n- Fuerza de los que sigues\n- Alguna clase de porcentaje de actividad en los últimos meses\n- ",
   "metadata": {
    "cell_id": "8cd4b58aa5cc487c9ac14007fbe30fef",
    "tags": [],
    "owner_user_id": "0c4dcfb5-18e5-4741-8d58-1d382d2f5d7d",
    "deepnote_cell_type": "markdown",
    "deepnote_cell_height": 210.59375
   }
  },
  {
   "cell_type": "code",
   "metadata": {
    "cell_id": "ec8be22c60db478ebe895174ecc4d06f",
    "tags": [],
    "deepnote_to_be_reexecuted": false,
    "source_hash": "e8157b47",
    "execution_start": 1653098933611,
    "execution_millis": 2884,
    "owner_user_id": "b7f90450-0770-40af-820a-2f5d5913daed",
    "deepnote_cell_type": "code",
    "deepnote_cell_height": 135
   },
   "source": "import matplotlib.pyplot as plt\nimport pandas as pd\nimport requests\nfrom bs4 import BeautifulSoup",
   "execution_count": null,
   "outputs": []
  },
  {
   "cell_type": "markdown",
   "source": "# Obtención de los datos\n\nPara nuestro análisis tendremos primero que recolectar diferentes repositorios con sus respectiva información para poder formar en primera instancia un dataframe con datos que podran ayudarnos a definir las etiquetas éxitoso/promesa/normal.\n\nPara eso, primero seleccionaremos los primero top 10 de esta pagina https://gitstar-ranking.com/ que contiene los repositorios con más estrellas, y analizaremos sus atributos para definir el exito.",
   "metadata": {
    "tags": [],
    "cell_id": "23189cc7-c212-4c4f-9ab8-492c92332b48",
    "deepnote_cell_type": "markdown",
    "deepnote_cell_height": 201.59375
   }
  },
  {
   "cell_type": "code",
   "metadata": {
    "cell_id": "f2870173f9d04f818c4f9109c464df95",
    "tags": [],
    "deepnote_to_be_reexecuted": false,
    "source_hash": "a61cc0ba",
    "execution_start": 1653062652035,
    "execution_millis": 276,
    "deepnote_cell_type": "code",
    "deepnote_cell_height": 166
   },
   "source": "gitstar = requests.get('https://gitstar-ranking.com/users')\n\n# Deberiamos obtener un código de respuesta 200 que indica que ha sido procesado nuestra petición exitosamente.\nprint(gitstar)",
   "execution_count": null,
   "outputs": [
    {
     "name": "stdout",
     "text": "<Response [200]>\n",
     "output_type": "stream"
    }
   ]
  },
  {
   "cell_type": "markdown",
   "source": "Utilizaremos `BeautifulSoup` para extrer cada uno de los repositorios.",
   "metadata": {
    "cell_id": "982982c2028645a7ad7db5aff184bae2",
    "tags": [],
    "deepnote_cell_type": "markdown",
    "deepnote_cell_height": 52.390625
   }
  },
  {
   "cell_type": "code",
   "metadata": {
    "cell_id": "2effba1b4b9245098712c3086dbfaa4b",
    "tags": [],
    "deepnote_to_be_reexecuted": false,
    "source_hash": "482c293c",
    "execution_start": 1653062663303,
    "execution_millis": 283,
    "owner_user_id": "e0c6afe4-99d0-40b0-b8eb-7b5ca2d084e6",
    "deepnote_cell_type": "code",
    "deepnote_cell_height": 404.796875
   },
   "source": "# Obtenemos todo el codigo HTML\nsoup = BeautifulSoup(gitstar.content)\n\n# Obtenemos las etiquetas <a> que enlacan a los repositorios\nanchors_repos = soup.find_all('a', class_='list-group-item paginated_item')\n\n# Obtenmos solo las url eg. '/freeCodeCamp/freeCodeCamp'\n# Nota: Una vez que iteras en el iterador map se borran los valores de map\n# sufijos_repos = map(lambda a: a.get('href'), anchors_repos)\nsufijos_repos = [a.get('href') for a in anchors_repos]\n\n# Agregamos ahora el prefijo de todos ello sera github.com\nprefijo = 'https://github.com'\nurl_repos = [prefijo+sufijo for sufijo in sufijos_repos]\n\n# Mostramos los primeros 5 repos\nprint(url_repos[:10])",
   "execution_count": null,
   "outputs": [
    {
     "name": "stdout",
     "text": "['https://github.com/sindresorhus', 'https://github.com/donnemartin', 'https://github.com/996icu', 'https://github.com/kamranahmedse', 'https://github.com/jwasham']\n",
     "output_type": "stream"
    }
   ]
  },
  {
   "cell_type": "markdown",
   "source": "Una vez obtenido los repositorios del sitio web, procederemos a extraer sus caracteristicas a traves de la [API Rest](https://docs.github.com/en/rest) de Github:",
   "metadata": {
    "cell_id": "77652e69c09548ef8adf834da5599339",
    "tags": [],
    "deepnote_to_be_reexecuted": false,
    "source_hash": "4c888eac",
    "execution_start": 1652968048560,
    "execution_millis": 3,
    "deepnote_cell_type": "markdown",
    "deepnote_cell_height": 52.390625
   }
  },
  {
   "cell_type": "code",
   "metadata": {
    "cell_id": "2e999d031e124c939506825907dbfa6e",
    "tags": [],
    "deepnote_to_be_reexecuted": false,
    "source_hash": "a5606b4d",
    "execution_start": 1653060241731,
    "execution_millis": 18,
    "deepnote_cell_type": "code",
    "deepnote_cell_height": 225
   },
   "source": "def get_info_repo(name_repo):\n    \"\"\"Obtiene informacion del repositorio de la API Rest\n    \n    name_repo: Str\n        Nombre del repositorio con la estructura /usergithub/namerepo eg. (/twbs/bootstrap)\n    \"\"\"\n    endpoint = f'https://api.github.com/repos{name_repo}'\n    response = requests.get(endpoint)\n    return response.json()",
   "execution_count": null,
   "outputs": []
  },
  {
   "cell_type": "markdown",
   "source": "Para entender mejor los atributos que nos devuelven la API, hemos registrado su significado a traves de este [excel](https://docs.google.com/spreadsheets/d/1J2a5_pDf08CeiU1jDcravI8s4JGfoZnqeGaH4RwZRvQ/edit#gid=0). Seleccionaremos los atributos que nos podrian interesar medir el exito de un repositorio. (eg. https://blogs.ch.cam.ac.uk/pmr/2011/08/19/criteria-for-successful-repositories/)\n\n\n|name repo|stars|watching|forks|Used by| Contributors| Tamanio kb| issues| Pull request| branches| No. commits|\n|---|---|----|---|---|---|---|---|---|---|---|\n|freeCodeCap|346000|8500| 2860| 98|4441|18000| 124 | 31 | 5| 30484|\n\n\n\n",
   "metadata": {
    "cell_id": "a017e1c48b734430b3d4805b65517cb4",
    "tags": [],
    "deepnote_cell_type": "markdown",
    "deepnote_cell_height": 160
   }
  },
  {
   "cell_type": "code",
   "metadata": {
    "cell_id": "24f0da493ee24b9dbe145549a3368207",
    "tags": [],
    "deepnote_to_be_reexecuted": false,
    "source_hash": "da6f0dc",
    "execution_start": 1653060241775,
    "execution_millis": 33,
    "deepnote_cell_type": "code"
   },
   "source": "repos = pd.DataFrame(dict(\n    name_repo=[],\n    stars=[],\n    watching=[],\n    forks=[],\n    used_by=[],\n    tamanio_kb=[],\n    issues=[],\n    pull_request=[],\n    branches=[],\n    no_commits=[]\n))",
   "execution_count": null,
   "outputs": []
  },
  {
   "cell_type": "code",
   "metadata": {
    "cell_id": "3e7e4e5c14e74e348503ad458cc91392",
    "tags": [],
    "deepnote_to_be_reexecuted": false,
    "source_hash": "2fe911ac",
    "execution_start": 1653061266424,
    "execution_millis": 27,
    "deepnote_cell_type": "code"
   },
   "source": "id_repos = []\nname_repos = []\nsizes = []\nstargazers_count_list = []\nforks_list = []\nopen_issues_list = []\nwatchers_list = []\nnetwork_count_list = []\nsuscribers_list = []",
   "execution_count": null,
   "outputs": []
  },
  {
   "cell_type": "code",
   "metadata": {
    "cell_id": "dc3158c548a54ebdaa95d69c41fddcce",
    "tags": [],
    "deepnote_to_be_reexecuted": false,
    "source_hash": "83a5f0f2",
    "execution_start": 1653061425857,
    "execution_millis": 7794,
    "deepnote_cell_type": "code"
   },
   "source": "for sufijo_repo in sufijos_repos:\n    repo = get_info_repo(sufijo_repo)\n    id_repos.append(repo['id'])\n    name_repos.append(repo['name'])\n    sizes.append(repo['size'])\n    stargazers_count_list.append(repo['stargazers_count'])\n    forks_list.append(repo['forks'])\n    open_issues_list.append(repo['open_issues'])\n    watchers_list = repo['watchers']\n    network_count_list.append(repo['network_count'])\n    suscribers_list.append(repo['subscribers_count'])",
   "execution_count": null,
   "outputs": [
    {
     "output_type": "error",
     "ename": "KeyError",
     "evalue": "'id'",
     "traceback": [
      "\u001b[0;31m---------------------------------------------------------------------------\u001b[0m",
      "\u001b[0;31mKeyError\u001b[0m                                  Traceback (most recent call last)",
      "\u001b[0;32m<ipython-input-14-45f0aa123819>\u001b[0m in \u001b[0;36m<module>\u001b[0;34m\u001b[0m\n\u001b[1;32m      1\u001b[0m \u001b[0;32mfor\u001b[0m \u001b[0msufijo_repo\u001b[0m \u001b[0;32min\u001b[0m \u001b[0msufijos_repos\u001b[0m\u001b[0;34m:\u001b[0m\u001b[0;34m\u001b[0m\u001b[0;34m\u001b[0m\u001b[0m\n\u001b[1;32m      2\u001b[0m     \u001b[0mrepo\u001b[0m \u001b[0;34m=\u001b[0m \u001b[0mget_info_repo\u001b[0m\u001b[0;34m(\u001b[0m\u001b[0msufijo_repo\u001b[0m\u001b[0;34m)\u001b[0m\u001b[0;34m\u001b[0m\u001b[0;34m\u001b[0m\u001b[0m\n\u001b[0;32m----> 3\u001b[0;31m     \u001b[0mid_repos\u001b[0m\u001b[0;34m.\u001b[0m\u001b[0mappend\u001b[0m\u001b[0;34m(\u001b[0m\u001b[0mrepo\u001b[0m\u001b[0;34m[\u001b[0m\u001b[0;34m'id'\u001b[0m\u001b[0;34m]\u001b[0m\u001b[0;34m)\u001b[0m\u001b[0;34m\u001b[0m\u001b[0;34m\u001b[0m\u001b[0m\n\u001b[0m\u001b[1;32m      4\u001b[0m     \u001b[0mname_repos\u001b[0m\u001b[0;34m.\u001b[0m\u001b[0mappend\u001b[0m\u001b[0;34m(\u001b[0m\u001b[0mrepo\u001b[0m\u001b[0;34m[\u001b[0m\u001b[0;34m'name'\u001b[0m\u001b[0;34m]\u001b[0m\u001b[0;34m)\u001b[0m\u001b[0;34m\u001b[0m\u001b[0;34m\u001b[0m\u001b[0m\n\u001b[1;32m      5\u001b[0m     \u001b[0msizes\u001b[0m\u001b[0;34m.\u001b[0m\u001b[0mappend\u001b[0m\u001b[0;34m(\u001b[0m\u001b[0mrepo\u001b[0m\u001b[0;34m[\u001b[0m\u001b[0;34m'size'\u001b[0m\u001b[0;34m]\u001b[0m\u001b[0;34m)\u001b[0m\u001b[0;34m\u001b[0m\u001b[0;34m\u001b[0m\u001b[0m\n",
      "\u001b[0;31mKeyError\u001b[0m: 'id'"
     ]
    }
   ]
  },
  {
   "cell_type": "code",
   "metadata": {
    "cell_id": "b76e6c32aaf34164b6246d63b43ed3f4",
    "tags": [],
    "deepnote_to_be_reexecuted": false,
    "source_hash": "669f2350",
    "execution_start": 1653061524105,
    "execution_millis": 20,
    "deepnote_cell_type": "code"
   },
   "source": "id_repos",
   "execution_count": null,
   "outputs": [
    {
     "output_type": "execute_result",
     "execution_count": 15,
     "data": {
      "text/plain": "[28457823,\n 177736533,\n 13491895,\n 60493101,\n 21737465,\n 11730342,\n 85077558,\n 10270250,\n 83222441,\n 45717250,\n 2126244,\n 14440270,\n 121395510,\n 291137,\n 126577260,\n 31792824,\n 63476337,\n 1062897,\n 2325298,\n 41881900,\n 21289110,\n 6498492,\n 132464395,\n 19415064,\n 1039520,\n 35955666,\n 29028775,\n 9384267,\n 943149,\n 23096959,\n 112507086,\n 63537249,\n 14098069,\n 20580498,\n 27193779,\n 70107786,\n 100060912,\n 133442384,\n 576201,\n 24195339,\n 21540759,\n 20929025,\n 34526884,\n 23083156,\n 90796663,\n 103633984,\n 88464704,\n 22790488,\n 51117837,\n 184456251,\n 33614304,\n 54173593,\n 160640094,\n 62607227,\n 1863329,\n 3470471,\n 138393139,\n 74791366]"
     },
     "metadata": {}
    }
   ]
  },
  {
   "cell_type": "code",
   "metadata": {
    "cell_id": "b98127a90649431f8b4692c2a0a6d1fb",
    "tags": [],
    "deepnote_to_be_reexecuted": false,
    "source_hash": "6470d901",
    "execution_start": 1653060346948,
    "execution_millis": 132,
    "deepnote_cell_type": "code"
   },
   "source": "repo = get_info_repo(sufijos_repos[0])",
   "execution_count": null,
   "outputs": []
  },
  {
   "cell_type": "code",
   "metadata": {
    "cell_id": "42eb03cea6784b71bfc6d6484c787186",
    "tags": [],
    "deepnote_to_be_reexecuted": false,
    "source_hash": "9067afbc",
    "execution_start": 1653060566199,
    "execution_millis": 20,
    "deepnote_cell_type": "code"
   },
   "source": "id_repos = repo['id']\nname_repo = repo['name']\nsize = repo['size']\nstargazers_count = repo['stargazers_count']\nforks = repo['forks']\nopen_issues = repo['open_issues']\nwatchers = repo['watchers']\nnetwork_count = repo['network_count']\nsuscribers = repo['subscribers_count']",
   "execution_count": null,
   "outputs": [
    {
     "output_type": "execute_result",
     "execution_count": 11,
     "data": {
      "text/plain": "346149"
     },
     "metadata": {}
    }
   ]
  },
  {
   "cell_type": "markdown",
   "source": "\n\n100\n\n",
   "metadata": {
    "cell_id": "48a463a880e2496dad7fd98c89dbdd9b",
    "tags": [],
    "deepnote_cell_type": "markdown"
   }
  },
  {
   "cell_type": "markdown",
   "source": "<a style='text-decoration:none;line-height:16px;display:flex;color:#5B5B62;padding:10px;justify-content:end;' href='https://deepnote.com?utm_source=created-in-deepnote-cell&projectId=152a8359-c113-4e0b-abe1-792bdde45c2e' target=\"_blank\">\n<img alt='Created in deepnote.com' style='display:inline;max-height:16px;margin:0px;margin-right:7.5px;' src='data:image/svg+xml;base64,PD94bWwgdmVyc2lvbj0iMS4wIiBlbmNvZGluZz0iVVRGLTgiPz4KPHN2ZyB3aWR0aD0iODBweCIgaGVpZ2h0PSI4MHB4IiB2aWV3Qm94PSIwIDAgODAgODAiIHZlcnNpb249IjEuMSIgeG1sbnM9Imh0dHA6Ly93d3cudzMub3JnLzIwMDAvc3ZnIiB4bWxuczp4bGluaz0iaHR0cDovL3d3dy53My5vcmcvMTk5OS94bGluayI+CiAgICA8IS0tIEdlbmVyYXRvcjogU2tldGNoIDU0LjEgKDc2NDkwKSAtIGh0dHBzOi8vc2tldGNoYXBwLmNvbSAtLT4KICAgIDx0aXRsZT5Hcm91cCAzPC90aXRsZT4KICAgIDxkZXNjPkNyZWF0ZWQgd2l0aCBTa2V0Y2guPC9kZXNjPgogICAgPGcgaWQ9IkxhbmRpbmciIHN0cm9rZT0ibm9uZSIgc3Ryb2tlLXdpZHRoPSIxIiBmaWxsPSJub25lIiBmaWxsLXJ1bGU9ImV2ZW5vZGQiPgogICAgICAgIDxnIGlkPSJBcnRib2FyZCIgdHJhbnNmb3JtPSJ0cmFuc2xhdGUoLTEyMzUuMDAwMDAwLCAtNzkuMDAwMDAwKSI+CiAgICAgICAgICAgIDxnIGlkPSJHcm91cC0zIiB0cmFuc2Zvcm09InRyYW5zbGF0ZSgxMjM1LjAwMDAwMCwgNzkuMDAwMDAwKSI+CiAgICAgICAgICAgICAgICA8cG9seWdvbiBpZD0iUGF0aC0yMCIgZmlsbD0iIzAyNjVCNCIgcG9pbnRzPSIyLjM3NjIzNzYyIDgwIDM4LjA0NzY2NjcgODAgNTcuODIxNzgyMiA3My44MDU3NTkyIDU3LjgyMTc4MjIgMzIuNzU5MjczOSAzOS4xNDAyMjc4IDMxLjY4MzE2ODMiPjwvcG9seWdvbj4KICAgICAgICAgICAgICAgIDxwYXRoIGQ9Ik0zNS4wMDc3MTgsODAgQzQyLjkwNjIwMDcsNzYuNDU0OTM1OCA0Ny41NjQ5MTY3LDcxLjU0MjI2NzEgNDguOTgzODY2LDY1LjI2MTk5MzkgQzUxLjExMjI4OTksNTUuODQxNTg0MiA0MS42NzcxNzk1LDQ5LjIxMjIyODQgMjUuNjIzOTg0Niw0OS4yMTIyMjg0IEMyNS40ODQ5Mjg5LDQ5LjEyNjg0NDggMjkuODI2MTI5Niw0My4yODM4MjQ4IDM4LjY0NzU4NjksMzEuNjgzMTY4MyBMNzIuODcxMjg3MSwzMi41NTQ0MjUgTDY1LjI4MDk3Myw2Ny42NzYzNDIxIEw1MS4xMTIyODk5LDc3LjM3NjE0NCBMMzUuMDA3NzE4LDgwIFoiIGlkPSJQYXRoLTIyIiBmaWxsPSIjMDAyODY4Ij48L3BhdGg+CiAgICAgICAgICAgICAgICA8cGF0aCBkPSJNMCwzNy43MzA0NDA1IEwyNy4xMTQ1MzcsMC4yNTcxMTE0MzYgQzYyLjM3MTUxMjMsLTEuOTkwNzE3MDEgODAsMTAuNTAwMzkyNyA4MCwzNy43MzA0NDA1IEM4MCw2NC45NjA0ODgyIDY0Ljc3NjUwMzgsNzkuMDUwMzQxNCAzNC4zMjk1MTEzLDgwIEM0Ny4wNTUzNDg5LDc3LjU2NzA4MDggNTMuNDE4MjY3Nyw3MC4zMTM2MTAzIDUzLjQxODI2NzcsNTguMjM5NTg4NSBDNTMuNDE4MjY3Nyw0MC4xMjg1NTU3IDM2LjMwMzk1NDQsMzcuNzMwNDQwNSAyNS4yMjc0MTcsMzcuNzMwNDQwNSBDMTcuODQzMDU4NiwzNy43MzA0NDA1IDkuNDMzOTE5NjYsMzcuNzMwNDQwNSAwLDM3LjczMDQ0MDUgWiIgaWQ9IlBhdGgtMTkiIGZpbGw9IiMzNzkzRUYiPjwvcGF0aD4KICAgICAgICAgICAgPC9nPgogICAgICAgIDwvZz4KICAgIDwvZz4KPC9zdmc+' > </img>\nCreated in <span style='font-weight:600;margin-left:4px;'>Deepnote</span></a>",
   "metadata": {
    "tags": [],
    "created_in_deepnote_cell": true,
    "deepnote_cell_type": "markdown"
   }
  }
 ],
 "nbformat": 4,
 "nbformat_minor": 2,
 "metadata": {
  "orig_nbformat": 2,
  "deepnote": {},
  "deepnote_notebook_id": "c2d1039e-2b5c-487e-b1ee-cc62d19c96cf",
  "deepnote_execution_queue": []
 }
}