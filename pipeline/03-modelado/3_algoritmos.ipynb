{
 "cells": [
  {
   "cell_type": "code",
   "execution_count": 1,
   "metadata": {},
   "outputs": [],
   "source": [
    "%run ../../data/api_keys.ipynb\n",
    "%run ../modulos.ipynb\n",
    "%run ../funciones_temp.ipynb"
   ]
  },
  {
   "cell_type": "code",
   "execution_count": 19,
   "metadata": {},
   "outputs": [],
   "source": [
    "from sklearn.neighbors import KNeighborsClassifier\n",
    "from sklearn.model_selection import train_test_split"
   ]
  },
  {
   "cell_type": "code",
   "execution_count": 41,
   "metadata": {},
   "outputs": [
    {
     "data": {
      "text/html": [
       "<div>\n",
       "<style scoped>\n",
       "    .dataframe tbody tr th:only-of-type {\n",
       "        vertical-align: middle;\n",
       "    }\n",
       "\n",
       "    .dataframe tbody tr th {\n",
       "        vertical-align: top;\n",
       "    }\n",
       "\n",
       "    .dataframe thead th {\n",
       "        text-align: right;\n",
       "    }\n",
       "</style>\n",
       "<table border=\"1\" class=\"dataframe\">\n",
       "  <thead>\n",
       "    <tr style=\"text-align: right;\">\n",
       "      <th></th>\n",
       "      <th>name_repo</th>\n",
       "      <th>star_q1</th>\n",
       "      <th>star_gq2</th>\n",
       "      <th>star_gq3</th>\n",
       "      <th>star_gq4</th>\n",
       "      <th>fork_q1</th>\n",
       "      <th>fork_gq2</th>\n",
       "      <th>fork_gq3</th>\n",
       "      <th>fork_gq4</th>\n",
       "      <th>clase</th>\n",
       "    </tr>\n",
       "  </thead>\n",
       "  <tbody>\n",
       "    <tr>\n",
       "      <th>0</th>\n",
       "      <td>https://github.com/goburrow/modbus</td>\n",
       "      <td>170.25</td>\n",
       "      <td>2.0999</td>\n",
       "      <td>1.4874</td>\n",
       "      <td>1.3390</td>\n",
       "      <td>67.25</td>\n",
       "      <td>1.9703</td>\n",
       "      <td>1.5000</td>\n",
       "      <td>1.3333</td>\n",
       "      <td>0</td>\n",
       "    </tr>\n",
       "    <tr>\n",
       "      <th>1</th>\n",
       "      <td>https://github.com/rcongiu/Hive-JSON-Serde</td>\n",
       "      <td>193.75</td>\n",
       "      <td>1.8710</td>\n",
       "      <td>1.4572</td>\n",
       "      <td>1.3289</td>\n",
       "      <td>92.00</td>\n",
       "      <td>1.9783</td>\n",
       "      <td>1.4945</td>\n",
       "      <td>1.3235</td>\n",
       "      <td>1</td>\n",
       "    </tr>\n",
       "    <tr>\n",
       "      <th>2</th>\n",
       "      <td>https://github.com/seatgeek/thefuzz</td>\n",
       "      <td>189.00</td>\n",
       "      <td>1.8836</td>\n",
       "      <td>1.5421</td>\n",
       "      <td>1.3115</td>\n",
       "      <td>14.25</td>\n",
       "      <td>1.9298</td>\n",
       "      <td>1.5909</td>\n",
       "      <td>1.3029</td>\n",
       "      <td>0</td>\n",
       "    </tr>\n",
       "    <tr>\n",
       "      <th>3</th>\n",
       "      <td>https://github.com/tailwindlabs/tailwindcss-li...</td>\n",
       "      <td>315.00</td>\n",
       "      <td>1.4349</td>\n",
       "      <td>1.3020</td>\n",
       "      <td>1.2336</td>\n",
       "      <td>4.75</td>\n",
       "      <td>1.7895</td>\n",
       "      <td>1.4412</td>\n",
       "      <td>1.3061</td>\n",
       "      <td>0</td>\n",
       "    </tr>\n",
       "    <tr>\n",
       "      <th>4</th>\n",
       "      <td>https://github.com/nicklockwood/Expression</td>\n",
       "      <td>323.50</td>\n",
       "      <td>1.4992</td>\n",
       "      <td>1.2546</td>\n",
       "      <td>1.1717</td>\n",
       "      <td>10.50</td>\n",
       "      <td>1.9048</td>\n",
       "      <td>1.5250</td>\n",
       "      <td>1.3115</td>\n",
       "      <td>0</td>\n",
       "    </tr>\n",
       "  </tbody>\n",
       "</table>\n",
       "</div>"
      ],
      "text/plain": [
       "                                           name_repo  star_q1  star_gq2  \\\n",
       "0                 https://github.com/goburrow/modbus   170.25    2.0999   \n",
       "1         https://github.com/rcongiu/Hive-JSON-Serde   193.75    1.8710   \n",
       "2                https://github.com/seatgeek/thefuzz   189.00    1.8836   \n",
       "3  https://github.com/tailwindlabs/tailwindcss-li...   315.00    1.4349   \n",
       "4         https://github.com/nicklockwood/Expression   323.50    1.4992   \n",
       "\n",
       "   star_gq3  star_gq4  fork_q1  fork_gq2  fork_gq3  fork_gq4  clase  \n",
       "0    1.4874    1.3390    67.25    1.9703    1.5000    1.3333      0  \n",
       "1    1.4572    1.3289    92.00    1.9783    1.4945    1.3235      1  \n",
       "2    1.5421    1.3115    14.25    1.9298    1.5909    1.3029      0  \n",
       "3    1.3020    1.2336     4.75    1.7895    1.4412    1.3061      0  \n",
       "4    1.2546    1.1717    10.50    1.9048    1.5250    1.3115      0  "
      ]
     },
     "execution_count": 41,
     "metadata": {},
     "output_type": "execute_result"
    }
   ],
   "source": [
    "data_etiquetada = pd.read_csv('../../data/data_etiquetada.csv')\n",
    "data_etiquetada.head()"
   ]
  },
  {
   "cell_type": "code",
   "execution_count": 42,
   "metadata": {},
   "outputs": [],
   "source": [
    "# normalización\n",
    "data_std_1 = data_etiquetada.loc[:, 'star_q1':'fork_gq4']\n",
    "data_std_max = data_std_1.max()\n",
    "data_std_min = data_std_1.min()\n",
    "data_std_2 = (data_std_1 - data_std_min) / (data_std_max - data_std_min)"
   ]
  },
  {
   "cell_type": "code",
   "execution_count": 44,
   "metadata": {},
   "outputs": [],
   "source": [
    "X = data_std_2\n",
    "y = data_etiquetada.clase\n",
    "\n",
    "X_train, X_test, y_train, y_test = train_test_split(\n",
    "    X, y, test_size=0.33, random_state=42)"
   ]
  },
  {
   "cell_type": "code",
   "execution_count": null,
   "metadata": {},
   "outputs": [],
   "source": [
    "neigh = KNeighborsClassifier(n_neighbors=3)\n",
    "neigh.fit(X_train, y_train)"
   ]
  },
  {
   "cell_type": "code",
   "execution_count": 50,
   "metadata": {},
   "outputs": [
    {
     "data": {
      "text/plain": [
       "array([0, 0, 0, 0, 0, 0, 0, 0, 0, 0, 0, 0, 0, 0, 0, 0, 0], dtype=int64)"
      ]
     },
     "execution_count": 50,
     "metadata": {},
     "output_type": "execute_result"
    }
   ],
   "source": [
    "neigh.predict(X_test)"
   ]
  },
  {
   "cell_type": "code",
   "execution_count": 51,
   "metadata": {},
   "outputs": [
    {
     "data": {
      "text/plain": [
       "13    0\n",
       "39    1\n",
       "30    1\n",
       "45    0\n",
       "17    0\n",
       "48    0\n",
       "26    0\n",
       "25    0\n",
       "32    0\n",
       "19    1\n",
       "12    0\n",
       "4     0\n",
       "37    0\n",
       "8     0\n",
       "3     0\n",
       "6     0\n",
       "41    0\n",
       "Name: clase, dtype: int64"
      ]
     },
     "execution_count": 51,
     "metadata": {},
     "output_type": "execute_result"
    }
   ],
   "source": [
    "y_test"
   ]
  },
  {
   "cell_type": "code",
   "execution_count": null,
   "metadata": {},
   "outputs": [],
   "source": []
  }
 ],
 "metadata": {
  "interpreter": {
   "hash": "5070f4822a1350d3d9c9c08c4ce2388787714cbeb31252dd6127ff0e531e352e"
  },
  "kernelspec": {
   "display_name": "Python 3.10.2 64-bit",
   "language": "python",
   "name": "python3"
  },
  "language_info": {
   "codemirror_mode": {
    "name": "ipython",
    "version": 3
   },
   "file_extension": ".py",
   "mimetype": "text/x-python",
   "name": "python",
   "nbconvert_exporter": "python",
   "pygments_lexer": "ipython3",
   "version": "3.10.2"
  },
  "orig_nbformat": 4
 },
 "nbformat": 4,
 "nbformat_minor": 2
}
