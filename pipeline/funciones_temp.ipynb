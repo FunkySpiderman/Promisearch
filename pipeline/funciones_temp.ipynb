{
 "cells": [
  {
   "cell_type": "code",
   "execution_count": 1,
   "metadata": {},
   "outputs": [
    {
     "ename": "NameError",
     "evalue": "name 'personal_access_token' is not defined",
     "output_type": "error",
     "traceback": [
      "\u001b[1;31m---------------------------------------------------------------------------\u001b[0m",
      "\u001b[1;31mNameError\u001b[0m                                 Traceback (most recent call last)",
      "\u001b[1;32m~\\AppData\\Local\\Temp/ipykernel_976/850361348.py\u001b[0m in \u001b[0;36m<module>\u001b[1;34m\u001b[0m\n\u001b[1;32m----> 1\u001b[1;33m \u001b[1;32mdef\u001b[0m \u001b[0mrequest_github_no_json\u001b[0m\u001b[1;33m(\u001b[0m\u001b[0murl\u001b[0m\u001b[1;33m,\u001b[0m\u001b[0mpersonal_access\u001b[0m\u001b[1;33m=\u001b[0m\u001b[0mpersonal_access_token\u001b[0m\u001b[1;33m)\u001b[0m\u001b[1;33m:\u001b[0m\u001b[1;33m\u001b[0m\u001b[1;33m\u001b[0m\u001b[0m\n\u001b[0m\u001b[0;32m      2\u001b[0m     \u001b[0mheaders\u001b[0m \u001b[1;33m=\u001b[0m \u001b[1;33m{\u001b[0m\u001b[1;34m\"Authorization\"\u001b[0m\u001b[1;33m:\u001b[0m \u001b[1;34mf\"Bearer {personal_access}\"\u001b[0m\u001b[1;33m,\u001b[0m\u001b[1;34m\"Accept\"\u001b[0m\u001b[1;33m:\u001b[0m \u001b[1;34m\"application/vnd.github.v3.star+json\"\u001b[0m\u001b[1;33m,\u001b[0m\u001b[1;34m\"content-type\"\u001b[0m\u001b[1;33m:\u001b[0m \u001b[1;34m\"application/json\"\u001b[0m\u001b[1;33m}\u001b[0m\u001b[1;33m\u001b[0m\u001b[1;33m\u001b[0m\u001b[0m\n\u001b[0;32m      3\u001b[0m \u001b[1;33m\u001b[0m\u001b[0m\n\u001b[0;32m      4\u001b[0m     \u001b[0mres\u001b[0m\u001b[1;33m=\u001b[0m\u001b[0mrequests\u001b[0m\u001b[1;33m.\u001b[0m\u001b[0mget\u001b[0m\u001b[1;33m(\u001b[0m\u001b[0murl\u001b[0m \u001b[1;33m,\u001b[0m\u001b[0mheaders\u001b[0m\u001b[1;33m=\u001b[0m\u001b[0mheaders\u001b[0m\u001b[1;33m)\u001b[0m\u001b[1;33m\u001b[0m\u001b[1;33m\u001b[0m\u001b[0m\n\u001b[0;32m      5\u001b[0m     \u001b[1;32mreturn\u001b[0m \u001b[0mres\u001b[0m\u001b[1;33m\u001b[0m\u001b[1;33m\u001b[0m\u001b[0m\n",
      "\u001b[1;31mNameError\u001b[0m: name 'personal_access_token' is not defined"
     ]
    }
   ],
   "source": [
    "def request_github_no_json(url,personal_access=personal_access_token):\n",
    "    headers = {\"Authorization\": f\"Bearer {personal_access}\",\"Accept\": \"application/vnd.github.v3.star+json\",\"content-type\": \"application/json\"}\n",
    "\n",
    "    res=requests.get(url ,headers=headers)\n",
    "    return res"
   ]
  },
  {
   "cell_type": "code",
   "execution_count": null,
   "metadata": {},
   "outputs": [],
   "source": [
    "def lista_fecha_a_df(lista,nombre='Grafica temporal', plot=False):\n",
    "  df=pd.DataFrame({nombre:lista})\n",
    "  df[f'freq_{nombre}']=pd.to_datetime(df[nombre]).dt.date\n",
    "  df1=df.groupby(f'freq_{nombre}').size().cumsum()\n",
    "  if plot: df1.plot()\n",
    "  return df1"
   ]
  },
  {
   "cell_type": "code",
   "execution_count": null,
   "metadata": {},
   "outputs": [],
   "source": [
    "def create_stargazers_count(user,repo):\n",
    "    \"\"\"this function creates the stargazers count dataframe\"\"\"\n",
    "\n",
    "    star_count_url = \"https://api.github.com/repos/\"+user+\"/\"+repo\n",
    "    # response = requests.request(\"GET\", star_count_url)\n",
    "    response = request_github_no_json(star_count_url)\n",
    "    total_star_count = response.json()['stargazers_count']\n",
    "    loops = int(total_star_count / 100) + 1\n",
    "    star_trends_url = \"https://api.github.com/repos/\"+user+\"/\"+repo+\"/stargazers\"\n",
    "    star_trends_resp = []\n",
    "    headers = {\n",
    "    \"Accept\": \"application/vnd.github.v3.star+json\",\n",
    "    \"content-type\": \"application/json\"\n",
    "    }\n",
    "    for page in range(loops):\n",
    "        # response = requests.request(\"GET\", star_trends_url+\"?per_page=100\"+\"&page=\"+str(page+1), headers=headers).json()\n",
    "        response = request_github_no_json(star_trends_url+\"?per_page=100\"+\"&page=\"+str(page+1)).json()\n",
    "        star_trends_resp.extend(response)\n",
    "\n",
    "    df = json_normalize(star_trends_resp)\n",
    "\n",
    "    #df['starred_date'] = pd.to_datetime(df['starred_at']).dt.date\n",
    "\n",
    "    #star_trend_df = df.groupby(['starred_date'])['starred_date'].count().cumsum().reset_index(name=\"count\")\n",
    "\n",
    "    return df"
   ]
  },
  {
   "cell_type": "code",
   "execution_count": null,
   "metadata": {},
   "outputs": [],
   "source": [
    "def create_repos_count(user):\n",
    "    \"\"\"crea el df temporal de repos\"\"\"\n",
    "\n",
    "    repos_url = \"https://api.github.com/users/\"+user+\"/repos\"\n",
    "    repos_resp = []\n",
    "   \n",
    "    page=0\n",
    "    response = request_github_no_json(repos_url+\"?per_page=100\"+\"&page=\"+str(page+1)).json() # primeras 100\n",
    "    repos_resp.extend(response)\n",
    "    while len(response)!=0:\n",
    "        page+=1\n",
    "        response = request_github_no_json(repos_url+\"?per_page=100\"+\"&page=\"+str(page+1)).json()\n",
    "        repos_resp.extend(response)\n",
    "        \n",
    "    df = json_normalize(repos_resp)\n",
    "\n",
    "    return df"
   ]
  },
  {
   "cell_type": "code",
   "execution_count": null,
   "metadata": {},
   "outputs": [],
   "source": [
    "def create_starred_count(user):\n",
    "    \"\"\"crea el df temporal de starred\"\"\"\n",
    "\n",
    "    starred_url = \"https://api.github.com/users/\"+user+\"/starred\"\n",
    "    repos_resp = []\n",
    "   \n",
    "    page=0\n",
    "    response = request_github_no_json(starred_url+\"?per_page=100\"+\"&page=\"+str(page+1)).json() # primeras 100\n",
    "    repos_resp.extend(response)\n",
    "    while len(response)!=0:\n",
    "        page+=1\n",
    "        response = request_github_no_json(starred_url+\"?per_page=100\"+\"&page=\"+str(page+1)).json()\n",
    "        repos_resp.extend(response)\n",
    "        \n",
    "    df = json_normalize(repos_resp)\n",
    "\n",
    "    return df"
   ]
  },
  {
   "cell_type": "code",
   "execution_count": null,
   "metadata": {},
   "outputs": [],
   "source": [
    "def create_forks_count(user, repo):\n",
    "    \"\"\"crea el df temporal de forks\"\"\"\n",
    "\n",
    "    forks_url = f\"https://api.github.com/repos/{user}/{repo}/forks\"\n",
    "    repos_resp = []\n",
    "   \n",
    "    page=0\n",
    "    response = request_github_no_json(forks_url+\"?per_page=100\"+\"&page=\"+str(page+1)).json() # primeras 100\n",
    "    repos_resp.extend(response)\n",
    "    while len(response)!=0:\n",
    "        page+=1\n",
    "        response = request_github_no_json(forks_url+\"?per_page=100\"+\"&page=\"+str(page+1)).json()\n",
    "        repos_resp.extend(response)\n",
    "        \n",
    "    df = json_normalize(repos_resp)\n",
    "\n",
    "    return df"
   ]
  },
  {
   "cell_type": "code",
   "execution_count": null,
   "metadata": {},
   "outputs": [],
   "source": [
    "def create_commits_count(user, repo):\n",
    "    \"\"\"crea el df temporal de commits\"\"\"\n",
    "\n",
    "    commits_url = f\"https://api.github.com/repos/{user}/{repo}/commits\"\n",
    "    repos_resp = []\n",
    "   \n",
    "    page=0\n",
    "    response = request_github_no_json(commits_url+\"?per_page=100\"+\"&page=\"+str(page+1)).json() # primeras 100\n",
    "    repos_resp.extend([i['commit']['author']['date'] for i in response])\n",
    "    while len(response)!=0:\n",
    "        page+=1\n",
    "        response = request_github_no_json(commits_url+\"?per_page=100\"+\"&page=\"+str(page+1)).json()\n",
    "        repos_resp.extend([i['commit']['author']['date'] for i in response])\n",
    "        \n",
    "    df = pd.DataFrame({'created_at':repos_resp})\n",
    "\n",
    "    return df"
   ]
  },
  {
   "cell_type": "code",
   "execution_count": null,
   "metadata": {},
   "outputs": [],
   "source": [
    "def crear_col_temporal_repo(fun,columna,user,repo,q=4,plot=False):\n",
    "  '''\n",
    "  fun:funcion como create_stargazers_count que regresa la cuenta de la serie de tiempo \n",
    "  '''\n",
    "  try:\n",
    "    cuentas_temporales=fun(user,repo) # Esto hace requests\n",
    "    serie_acum=lista_fecha_a_df(cuentas_temporales[columna],'a',plot)\n",
    "    cuantiles=pd.qcut(serie_acum, q=q, retbins=True)[1]\n",
    "  except:\n",
    "    return [np.nan]*4\n",
    "\n",
    "  return [cuantiles[1]]+list(cuantiles[2:] / cuantiles[1:-1])\n"
   ]
  },
  {
   "cell_type": "code",
   "execution_count": null,
   "metadata": {},
   "outputs": [],
   "source": []
  },
  {
   "cell_type": "code",
   "execution_count": 2,
   "metadata": {},
   "outputs": [],
   "source": [
    "def obtener_hist_grafica(user,repo,atributo,nom_col,plot=True):\n",
    "\n",
    "    consulta_url = f\"https://api.github.com/repos/{user}/{repo}/{atributo}\"\n",
    "    repos_resp = []\n",
    "    \n",
    "    page=1\n",
    "    response_no_json = request_github_no_json(consulta_url+\"?per_page=100\"+\"&page=\"+str(page))\n",
    "    response=response_no_json.json() # primeras 100\n",
    "    \n",
    "    # Estos try son para cuando excedes el límite de 5000 por hora \n",
    "    try:\n",
    "        repos_resp.extend([re[nom_col] for re in response])\n",
    "    except:\n",
    "        print('Número máximo alcanzado, esperando 30s')\n",
    "        time.sleep(30)\n",
    "        page=page-1\n",
    "        \n",
    "\n",
    "    while len(response)!=0:\n",
    "        page+=1\n",
    "        response = request_github_no_json(consulta_url+\"?per_page=100\"+\"&page=\"+str(page)).json()\n",
    "        \n",
    "        try:\n",
    "            repos_resp.extend([re[nom_col] for re in response])\n",
    "        except:\n",
    "            print('Número máximo alcanzado, esperando 30s')\n",
    "            time.sleep(30)\n",
    "            page=page-1\n",
    "            \n",
    "            \n",
    "\n",
    "  \n",
    "    serie_acum=lista_fecha_a_df(repos_resp)\n",
    "    try:\n",
    "        cuantiles=pd.qcut(serie_acum, q=4, retbins=True)[1]\n",
    "    \n",
    "    except:\n",
    "        return '0,0,0,0'\n",
    "\n",
    "    if plot:\n",
    "      fig=px.scatter(serie_acum,title=f'Histórico {atributo}')\n",
    "      fig.add_hline(y=cuantiles[0])\n",
    "      fig.add_hline(y=cuantiles[1])\n",
    "      fig.add_hline(y=cuantiles[2])\n",
    "      fig.add_hline(y=cuantiles[3])\n",
    "      fig.show()\n",
    "    return serie_acum, cuantiles"
   ]
  },
  {
   "cell_type": "code",
   "execution_count": 3,
   "metadata": {},
   "outputs": [],
   "source": [
    "def obtener_info_repo_plot(user,repo):\n",
    "    \"\"\"Regresa json con info histórica y del repo\"\"\"\n",
    "\n",
    "    star_count_url = \"https://api.github.com/repos/\"+user+\"/\"+repo\n",
    "\n",
    "    response1 = request_github_no_json(star_count_url)\n",
    "     \n",
    "    serie_estrellas,cuantiles_estrellas = obtener_hist_grafica(user,repo,'stargazers','starred_at')\n",
    "    serie_forks,cuantiles_forks = obtener_hist_grafica(user,repo,'forks','created_at')\n",
    "\n",
    "    resp_json=response1.json()\n",
    "    resp_json['cuant_estrellas']=cuantiles_estrellas\n",
    "    resp_json['cuant_forks']=cuantiles_forks\n",
    " \n",
    "    return resp_json"
   ]
  }
 ],
 "metadata": {
  "interpreter": {
   "hash": "252189e587d1e2aeba4a06e91fa71896c7a7f6e22e918b9407c7cde4ef2d5985"
  },
  "kernelspec": {
   "display_name": "Python 3.7.9 64-bit",
   "language": "python",
   "name": "python3"
  },
  "language_info": {
   "codemirror_mode": {
    "name": "ipython",
    "version": 3
   },
   "file_extension": ".py",
   "mimetype": "text/x-python",
   "name": "python",
   "nbconvert_exporter": "python",
   "pygments_lexer": "ipython3",
   "version": "3.7.9"
  },
  "orig_nbformat": 4
 },
 "nbformat": 4,
 "nbformat_minor": 2
}
